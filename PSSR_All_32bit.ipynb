{
 "cells": [
  {
   "attachments": {},
   "cell_type": "markdown",
   "metadata": {
    "id": "V9zNGvape2-I"
   },
   "source": [
    "# **Point Scanning Super Resolution (PSSR) - Training**"
   ]
  },
  {
   "attachments": {},
   "cell_type": "markdown",
   "metadata": {
    "id": "b4-r1gE7Iamv"
   },
   "source": [
    "# **Preparation**\n",
    "---"
   ]
  },
  {
   "attachments": {},
   "cell_type": "markdown",
   "metadata": {
    "id": "K5_nSag2fU94"
   },
   "source": [
    "## **Set the Runtime Type**\n",
    "---\n",
    "\n",
    "<font size = 4>Go to **Runtime -> Change the Runtime type**\n",
    "\n",
    "<font size = 4>**Runtime type: Python 3** *(Python 3 is programming language in which this program is written)*\n",
    "\n",
    "<font size = 4>**Accelator: GPU** *(Graphics processing unit (GPU)*"
   ]
  },
  {
   "cell_type": "code",
   "execution_count": 1,
   "metadata": {
    "cellView": "both",
    "colab": {
     "base_uri": "https://localhost:8080/"
    },
    "id": "BDhmUgqCStlm",
    "outputId": "423c7ca6-686c-4a70-8a38-239bccf3bcca"
   },
   "outputs": [
    {
     "name": "stderr",
     "output_type": "stream",
     "text": [
      "2023-05-12 19:29:41.146781: I tensorflow/core/platform/cpu_feature_guard.cc:193] This TensorFlow binary is optimized with oneAPI Deep Neural Network Library (oneDNN) to use the following CPU instructions in performance-critical operations:  SSE4.1 SSE4.2 AVX AVX2 FMA\n",
      "To enable them in other operations, rebuild TensorFlow with the appropriate compiler flags.\n"
     ]
    },
    {
     "name": "stdout",
     "output_type": "stream",
     "text": [
      "You do not have GPU access.\n",
      "Did you change your runtime ?\n",
      "If the runtime settings are correct then Google did not allocate GPU to your session\n",
      "Expect slow performance. To access GPU try reconnecting later\n"
     ]
    },
    {
     "name": "stderr",
     "output_type": "stream",
     "text": [
      "2023-05-12 19:29:42.631435: I tensorflow/core/platform/cpu_feature_guard.cc:193] This TensorFlow binary is optimized with oneAPI Deep Neural Network Library (oneDNN) to use the following CPU instructions in performance-critical operations:  SSE4.1 SSE4.2 AVX AVX2 FMA\n",
      "To enable them in other operations, rebuild TensorFlow with the appropriate compiler flags.\n"
     ]
    },
    {
     "data": {
      "text/plain": [
       "[name: \"/device:CPU:0\"\n",
       " device_type: \"CPU\"\n",
       " memory_limit: 268435456\n",
       " locality {\n",
       " }\n",
       " incarnation: 17445216500103990918\n",
       " xla_global_id: -1]"
      ]
     },
     "execution_count": 1,
     "metadata": {},
     "output_type": "execute_result"
    }
   ],
   "source": [
    "#Run this cell to check if you have GPU access\n",
    "\n",
    "import tensorflow as tf\n",
    "if tf.test.gpu_device_name()=='':\n",
    "  print('You do not have GPU access.') \n",
    "  print('Did you change your runtime ?') \n",
    "  print('If the runtime settings are correct then Google did not allocate GPU to your session')\n",
    "  print('Expect slow performance. To access GPU try reconnecting later')\n",
    "else:\n",
    "  print('You have GPU access')\n",
    "\n",
    "from tensorflow.python.client import device_lib \n",
    "device_lib.list_local_devices()"
   ]
  },
  {
   "attachments": {},
   "cell_type": "markdown",
   "metadata": {},
   "source": [
    "## Check GPU"
   ]
  },
  {
   "cell_type": "code",
   "execution_count": 1,
   "metadata": {},
   "outputs": [
    {
     "name": "stdout",
     "output_type": "stream",
     "text": [
      "Total memory: 25769803776\n",
      "Free memory: 24867700736\n",
      "Used memory: 902103040\n"
     ]
    }
   ],
   "source": [
    "from pynvml import *\n",
    "nvmlInit()\n",
    "handle = nvmlDeviceGetHandleByIndex(0)\n",
    "info = nvmlDeviceGetMemoryInfo(handle)\n",
    "print(\"Total memory:\", info.total)\n",
    "print(\"Free memory:\", info.free)\n",
    "print(\"Used memory:\", info.used)"
   ]
  },
  {
   "cell_type": "code",
   "execution_count": 2,
   "metadata": {},
   "outputs": [
    {
     "name": "stdout",
     "output_type": "stream",
     "text": [
      "Device 0 : b'NVIDIA TITAN RTX'\n"
     ]
    }
   ],
   "source": [
    "from pynvml import *\n",
    "nvmlInit()\n",
    "try:\n",
    "    deviceCount = nvmlDeviceGetCount()\n",
    "    for i in range(deviceCount):\n",
    "        handle = nvmlDeviceGetHandleByIndex(i)\n",
    "        print(\"Device\", i, \":\", nvmlDeviceGetName(handle))\n",
    "except NVMLError as error:\n",
    "    print(error)"
   ]
  },
  {
   "cell_type": "code",
   "execution_count": 2,
   "metadata": {},
   "outputs": [
    {
     "name": "stdout",
     "output_type": "stream",
     "text": [
      "gpu: 13%, gpu-mem: 7%\n"
     ]
    }
   ],
   "source": [
    "import nvidia_smi\n",
    "\n",
    "nvidia_smi.nvmlInit()\n",
    "handle = nvidia_smi.nvmlDeviceGetHandleByIndex(0)\n",
    "# card id 0 hardcoded here, there is also a call to get all available card ids, so we could iterate\n",
    "\n",
    "res = nvidia_smi.nvmlDeviceGetUtilizationRates(handle)\n",
    "print(f'gpu: {res.gpu}%, gpu-mem: {res.memory}%')"
   ]
  },
  {
   "cell_type": "code",
   "execution_count": 1,
   "metadata": {},
   "outputs": [
    {
     "name": "stdout",
     "output_type": "stream",
     "text": [
      "GPU RAM Free: 23725MB | Used: 483MB | Util   2% | Total 24576MB\n"
     ]
    }
   ],
   "source": [
    "import GPUtil as GPU\n",
    "GPUs = GPU.getGPUs()\n",
    "gpu = GPUs[0]\n",
    "print(\"GPU RAM Free: {0:.0f}MB | Used: {1:.0f}MB | Util {2:3.0f}% | Total {3:.0f}MB\".format(gpu.memoryFree, gpu.memoryUsed, gpu.memoryUtil*100, gpu.memoryTotal))"
   ]
  },
  {
   "attachments": {},
   "cell_type": "markdown",
   "metadata": {
    "id": "NS7lCdiQf_0T"
   },
   "source": [
    "## **Specify Your Working Folder - need your input**\n",
    "---"
   ]
  },
  {
   "cell_type": "code",
   "execution_count": 2,
   "metadata": {
    "id": "Vmx810jDXTbc"
   },
   "outputs": [],
   "source": [
    "root_path = \".\""
   ]
  },
  {
   "attachments": {},
   "cell_type": "markdown",
   "metadata": {
    "id": "8TkQcROufgwL"
   },
   "source": [
    "## **Install PSSR and Dependencies**\n",
    "---"
   ]
  },
  {
   "cell_type": "code",
   "execution_count": 2,
   "metadata": {
    "colab": {
     "base_uri": "https://localhost:8080/"
    },
    "id": "vETWgkZ5v4dm",
    "outputId": "5cd9632b-1ad4-4bf7-c1e1-661620fe762d"
   },
   "outputs": [
    {
     "name": "stderr",
     "output_type": "stream",
     "text": [
      "/tmp/ipykernel_111090/1635112640.py:35: DeprecationWarning: Please use `zoom` from the `scipy.ndimage` namespace, the `scipy.ndimage.interpolation` namespace is deprecated.\n",
      "  from scipy.ndimage.interpolation import zoom as npzoom\n"
     ]
    }
   ],
   "source": [
    "root_path = \".\"\n",
    "\n",
    "import sys\n",
    "import torch\n",
    "sys.path.insert(1, root_path)\n",
    "from utils import *\n",
    "from fastai import *\n",
    "from fastai.vision import *\n",
    "from fastcore.script import *\n",
    "from pathlib import Path\n",
    "from fastprogress import master_bar, progress_bar\n",
    "from time import sleep\n",
    "import shutil\n",
    "import PIL\n",
    "import czifile\n",
    "PIL.Image.MAX_IMAGE_PIXELS = 99999999999999\n",
    "\n",
    "import PIL.Image\n",
    "import imageio\n",
    "\n",
    "from fastai.callbacks import *\n",
    "from fastai.distributed import *\n",
    "from fastai.vision.models.unet import DynamicUnet\n",
    "from fastai.vision.models import resnet18, resnet34, resnet50\n",
    "from skimage.util import random_noise\n",
    "from skimage import filters\n",
    "from utils.resnet import *\n",
    "from utils.utils import unet_image_from_tiles_blend\n",
    "\n",
    "from utils.crappifiers import *\n",
    "import torchvision\n",
    "import glob\n",
    "from PIL import Image\n",
    "from skimage.transform import rescale\n",
    "from scipy.ndimage.interpolation import zoom as npzoom\n",
    "\n",
    "from pandas.core.arrays.interval import NA\n",
    "from numpy import NaN"
   ]
  },
  {
   "cell_type": "code",
   "execution_count": 3,
   "metadata": {
    "id": "LQY61nXssJt1"
   },
   "outputs": [
    {
     "name": "stdout",
     "output_type": "stream",
     "text": [
      "<torch.cuda.device object at 0x7f278c9e6260>\n"
     ]
    }
   ],
   "source": [
    "if 'learn' in locals():\n",
    "    del learn\n",
    "    gc.collect()\n",
    "    torch.cuda.empty_cache()\n",
    "\n",
    "torch.backends.cudnn.benchmark = True\n",
    "print(torch.cuda.device(0))"
   ]
  },
  {
   "attachments": {},
   "cell_type": "markdown",
   "metadata": {},
   "source": [
    "## Helper Functions"
   ]
  },
  {
   "cell_type": "code",
   "execution_count": 2,
   "metadata": {},
   "outputs": [],
   "source": [
    "def normalize(arr,negative=False):\n",
    "    dtype = arr.dtype\n",
    "    arr = arr.astype(np.float32)\n",
    "    og_min, og_max = float(arr.min()), float(arr.max())\n",
    "    # og_min, og_max = -212., 2047.\n",
    "    # og_min, og_max = 33.315, 1258.7339\n",
    "    if arr.dtype in (np.uint32, np.uint16, np.uint8):\n",
    "        return (arr - og_min) / (og_max - og_min)\n",
    "    else:\n",
    "        return ((arr - og_min) / (og_max - og_min) - 0.5) * 2\n",
    "\n",
    "# assumes data is properly normalized\n",
    "def denormalize(data, dtype = np.int32):\n",
    "    unsigned = (np.uint32, np.uint16, np.uint8)\n",
    "    signed = (np.int32, np.int16, np.int8)\n",
    "    if data.dtype in unsigned or (data.dtype in unsigned and data.min() < 0 or data.max() > 1) or (data.dtype in signed and data.min() < -1 or data.max() > 1):\n",
    "        raise Exception('Unsupported data type. Input should be normalized')\n",
    "    \n",
    "    if dtype in (np.int32, np.int16, np.int8, np.uint32, np.uint16, np.uint8):\n",
    "        return (data*np.iinfo(dtype).max).astype(dtype)\n",
    "    else:\n",
    "        return (data*np.finfo(dtype).max).astype(dtype)"
   ]
  },
  {
   "cell_type": "code",
   "execution_count": 95,
   "metadata": {},
   "outputs": [],
   "source": [
    "def gen_test_gradient(size=512,dtype=np.int32):\n",
    "    out = np.ones((size,size),dtype=dtype)*np.iinfo(dtype).max\n",
    "    for i in np.arange(size):\n",
    "        for j in np.arange(size):\n",
    "            out[i,j] = out[i,j] * (i+j)/(2.*(size-1))\n",
    "    return out"
   ]
  },
  {
   "cell_type": "code",
   "execution_count": 96,
   "metadata": {},
   "outputs": [
    {
     "name": "stdout",
     "output_type": "stream",
     "text": [
      "0 2147483647\n"
     ]
    },
    {
     "data": {
      "text/plain": [
       "<matplotlib.image.AxesImage at 0x7f9c23f18ca0>"
      ]
     },
     "execution_count": 96,
     "metadata": {},
     "output_type": "execute_result"
    },
    {
     "data": {
      "image/png": "[encoded data removed]",
      "text/plain": [
       "<Figure size 640x480 with 1 Axes>"
      ]
     },
     "metadata": {},
     "output_type": "display_data"
    }
   ],
   "source": [
    "grad = gen_test_gradient()\n",
    "print(grad.min(), grad.max())\n",
    "plt.imshow(grad, cmap='gray')"
   ]
  },
  {
   "cell_type": "code",
   "execution_count": 85,
   "metadata": {},
   "outputs": [],
   "source": [
    "test_img = Image.fromarray(grad)\n",
    "test_img.save('test_grad.tif')"
   ]
  },
  {
   "cell_type": "code",
   "execution_count": null,
   "metadata": {},
   "outputs": [],
   "source": []
  },
  {
   "attachments": {},
   "cell_type": "markdown",
   "metadata": {
    "id": "GMetHM56gMkf"
   },
   "source": [
    "# **PSSR 01 - Get to Know Your Training Data**\n",
    "---"
   ]
  },
  {
   "attachments": {},
   "cell_type": "markdown",
   "metadata": {
    "id": "ZCG3IlyEjzBa"
   },
   "source": [
    "## **Specify Your Datasource - need your input**\n",
    "---"
   ]
  },
  {
   "cell_type": "code",
   "execution_count": 2,
   "metadata": {
    "id": "VNZ7jTg7E5XK"
   },
   "outputs": [],
   "source": [
    "sources = [root_path + '/testGradient'] #must be in form of array\n",
    "output_file = 'testGradient.csv'\n",
    "only = 'sources'\n",
    "skip = []"
   ]
  },
  {
   "cell_type": "code",
   "execution_count": 3,
   "metadata": {
    "id": "rmTld6FTyqbE"
   },
   "outputs": [],
   "source": [
    "src_dirs = []\n",
    "for src in sources:\n",
    "    sub_fldrs = subfolders(Path(src))\n",
    "    if skip: src_dirs += [fldr for fldr in sub_fldrs if fldr.stem not in skip]\n",
    "    elif only: src_dirs += [fldr for fldr in sub_fldrs if fldr.stem in only]\n",
    "    else: src_dirs += sub_fldrs"
   ]
  },
  {
   "cell_type": "code",
   "execution_count": 4,
   "metadata": {
    "cellView": "form",
    "id": "089Lg4eD7JT0"
   },
   "outputs": [],
   "source": [
    "#@title process_czi()\n",
    "def process_czi(item, category, mode):\n",
    "#This function only takes the first channel of the czi files\n",
    "#since those are the only mitotracker channels\n",
    "    tif_srcs = []\n",
    "    base_name = item.stem\n",
    "    print('czi')\n",
    "    with czifile.CziFile(item) as czi_f:\n",
    "        data = czi_f.asarray()\n",
    "        axes, shape = get_czi_shape_info(czi_f)\n",
    "        channels = shape['C']\n",
    "        depths = shape['Z']\n",
    "        times = shape['T']\n",
    "        #times = min(times, 30) #ONLY USE FIRST 30 frames\n",
    "        x,y = shape['X'], shape['Y']\n",
    "\n",
    "        mid_depth = depths // 2\n",
    "        depth_range = range(max(0,mid_depth-2), min(depths, mid_depth+2))\n",
    "        is_multi = (times > 1) or (depths > 1)\n",
    "\n",
    "        data = czi_f.asarray()\n",
    "        all_rmax = data.max()\n",
    "        all_mi, all_ma = np.percentile(data, [2,99.99])\n",
    "\n",
    "        dtype = data.dtype\n",
    "        #for channel in range(channels): #if other channels are needed, use this line\n",
    "        for channel in range(0,1):\n",
    "            for z in depth_range:\n",
    "                for t in range(times):\n",
    "                    idx = build_index(\n",
    "                        axes, {\n",
    "                            'T': t,\n",
    "                            'C': channel,\n",
    "                            'Z': z,\n",
    "                            'X': slice(0, x),\n",
    "                            'Y': slice(0, y)\n",
    "                        })\n",
    "                    img = data[idx]\n",
    "                    mi, ma = np.percentile(img, [2,99.99])\n",
    "                    if dtype == np.uint8: rmax = 255.\n",
    "                    else: rmax = img.max()\n",
    "                    tif_srcs.append({'fn': item, 'ftype': 'czi', 'multi':int(is_multi), 'category': category, 'dsplit': mode,\n",
    "                                     'uint8': dtype == np.uint8, 'mi': mi, 'ma': ma, 'rmax': rmax,\n",
    "                                     'all_rmax': all_rmax, 'all_mi': all_mi, 'all_ma': all_ma,\n",
    "                                     'mean': img.mean(), 'sd': img.std(),\n",
    "                                     'nc': channels, 'nz': depths, 'nt': times,\n",
    "                                     'z': z, 't': t, 'c':channel, 'x': x, 'y': y})\n",
    "    return tif_srcs"
   ]
  },
  {
   "cell_type": "code",
   "execution_count": 5,
   "metadata": {
    "id": "szuxHh1XFnQs"
   },
   "outputs": [],
   "source": [
    "def is_live(item):\n",
    "    return item.parent.parts[-3] == 'live'\n",
    "\n",
    "def process_tif(item, category, mode):\n",
    "    mods = {\n",
    "        'original': lambda x: x,\n",
    "        # 'to_int32' : lambda x : denormalize(normalize(x))\n",
    "        # 'normalized': lambda x : ((x - x.min()) / (x.max() - x.min()))\n",
    "        # 'rot90': np.rot90,\n",
    "        # 'rot180': lambda x: np.rot90(x, 2),\n",
    "        # 'rot270': lambda x: np.rot90(x, 3),\n",
    "        # 'hflip': np.fliplr,\n",
    "        # 'vflip': np.flip,\n",
    "        # 'zoom_tl': lambda x: np.repeat(np.repeat(x[:int(x.shape[0]/2), :int(x.shape[1]/2)], 2, 0), 2, 1),\n",
    "        # 'zoom_tr': lambda x: np.repeat(np.repeat(x[:int(x.shape[0]/2), int(x.shape[1]/2):], 2, 0), 2, 1),\n",
    "        # 'zoom_bl': lambda x: np.repeat(np.repeat(x[int(x.shape[0]/2):, :int(x.shape[1]/2)], 2, 0), 2, 1),\n",
    "        # 'zoom_br': lambda x: np.repeat(np.repeat(x[int(x.shape[0]/2):, int(x.shape[1]/2):], 2, 0), 2, 1)\n",
    "    }\n",
    "\n",
    "    tif_srcs = []\n",
    "    img = PIL.Image.open(item)\n",
    "    n_frames = img.n_frames\n",
    "    x,y = img.size\n",
    "    is_multi = n_frames > 1\n",
    "    #n_frames = min(n_frames, 30) #ONLY USE FIRST 30 frames\n",
    "\n",
    "    data = []\n",
    "    for n in range(n_frames):\n",
    "        img.seek(n)\n",
    "        img.load()\n",
    "        img_data = np.array(img)\n",
    "\n",
    "        data.append(img_data)\n",
    "\n",
    "    data = np.stack(data)\n",
    "    all_rmax = data.max().astype(np.int32)\n",
    "    all_rmin = data.min().astype(np.int32)\n",
    "    all_mi, all_ma = np.percentile(data, [2,99.99]).astype(np.float32)\n",
    "\n",
    "    dir = sources[0] + f'/{category}_modded'\n",
    "    if not os.path.isdir(dir):\n",
    "        os.mkdir(dir)\n",
    "    if not os.path.isdir(dir + f'/{mode}'):\n",
    "        print(dir + f'/{mode}')\n",
    "        os.mkdir(dir + f'/{mode}')\n",
    "\n",
    "    for n in range(n_frames):\n",
    "        img_data = data[n]\n",
    "        dtype = img_data.dtype\n",
    "        mi, ma = np.percentile(img_data, [2,99.99]).astype(np.float32)\n",
    "        # if dtype == np.int32: rmax = np.iinfo(np.int32).max\n",
    "        # else: rmax = img_data.max()\n",
    "        rmax = img_data.max().astype(np.int32)\n",
    "        rmin = img_data.min().astype(np.int32)\n",
    "        if is_live(item):\n",
    "            t, z = n, 0\n",
    "            nt, nz = n_frames, 1\n",
    "        else:\n",
    "            t, z = 0, n\n",
    "            nt, nz = 1, n_frames\n",
    "\n",
    "        for mod in mods.keys():\n",
    "            modname = str(item).split('/')[-1].split('.')\n",
    "            modname[0], modname[-1] = modname[0] + f'_{mod}', '.' + modname[-1]\n",
    "            modname = ''.join(modname)\n",
    "            item_mod_name = f'{dir}/{mode}/{modname}'\n",
    "\n",
    "            Image.fromarray(mods[mod](np.array(Image.open(item)))).save(item_mod_name)\n",
    "\n",
    "            tif_srcs.append({'fn': item_mod_name, 'ftype': 'tif', 'multi':int(is_multi), 'category': category, 'dsplit': mode,\n",
    "                            'int32': dtype==np.int32, 'mi': mi, 'ma': ma, 'rmin': rmin, 'rmax': rmax,\n",
    "                            'all_rmin': all_rmin, 'all_rmax': all_rmax, 'all_mi': all_mi, 'all_ma': all_ma,\n",
    "                            'mean': img_data.mean(), 'sd': img_data.std(),\n",
    "                            'nc': 1, 'nz': nz, 'nt': nt,\n",
    "                            'z': z, 't': t, 'c':0, 'x': x, 'y': y})\n",
    "    return tif_srcs\n",
    "\n",
    "def process_unk(item, category, mode):\n",
    "    print(f\"**** Unknown: {item}\")\n",
    "    return []\n",
    "\n",
    "def process_item(item, category, mode):\n",
    "    try:\n",
    "        if mode == 'test': return []\n",
    "        else:\n",
    "            item_map = {\n",
    "                '.tif': process_tif,\n",
    "                '.tiff': process_tif,\n",
    "                '.czi': process_czi,\n",
    "            }\n",
    "            map_f = item_map.get(item.suffix, process_unk)\n",
    "            return map_f(item, category, mode)\n",
    "    except Exception as ex:\n",
    "        print(f'err procesing: {item}')\n",
    "        print(ex)\n",
    "        return []\n",
    "\n",
    "def build_tifs(src, mbar=None):\n",
    "    tif_srcs = []\n",
    "    for mode in ['train', 'valid', 'test']:\n",
    "        live = src.parent.parts[-1] == 'live'\n",
    "        src_dir = src / mode\n",
    "        category = src.stem\n",
    "        items = list(src_dir.iterdir()) if src_dir.exists() else []\n",
    "        if items:\n",
    "            for p in progress_bar(items, parent=mbar):\n",
    "                mbar.child.comment = mode\n",
    "                tif_srcs += process_item(p, category=category, mode=mode)\n",
    "    return tif_srcs"
   ]
  },
  {
   "cell_type": "code",
   "execution_count": 6,
   "metadata": {
    "colab": {
     "base_uri": "https://localhost:8080/",
     "height": 1000
    },
    "id": "o7w1fzWrO5-v",
    "outputId": "77f4cab7-d126-4c59-91a1-cbe59b875e6b"
   },
   "outputs": [],
   "source": [
    "#pull metadata from datasources\n",
    "mbar = master_bar(src_dirs)\n",
    "tif_srcs = []\n",
    "for src in mbar:\n",
    "    mbar.write(f'process {src.stem}')\n",
    "    tif_srcs += build_tifs(src, mbar=mbar)"
   ]
  },
  {
   "cell_type": "code",
   "execution_count": 7,
   "metadata": {
    "colab": {
     "base_uri": "https://localhost:8080/",
     "height": 35
    },
    "id": "3UXIgrDn8bC6",
    "outputId": "39eca72d-6f0d-49c4-b22f-fd59df34f196"
   },
   "outputs": [
    {
     "data": {
      "text/plain": [
       "'./testGradient.csv'"
      ]
     },
     "execution_count": 7,
     "metadata": {},
     "output_type": "execute_result"
    }
   ],
   "source": [
    "#save csv to disk\n",
    "tif_src_df = pd.DataFrame(tif_srcs)\n",
    "tif_src_df[['category','dsplit','multi','ftype','int32','mean','sd','all_rmin','all_rmax','all_mi','all_ma','mi','ma','rmin','rmax','nc','nz','nt','c','z','t','x','y','fn']].to_csv(output_file, header=True, index=False)\n",
    "shutil.move(output_file, f'{root_path}/{output_file}')\n"
   ]
  },
  {
   "attachments": {},
   "cell_type": "markdown",
   "metadata": {
    "id": "CjDTzO01qx4k"
   },
   "source": [
    "# **PSSR 02 - Generate Training Datasets**\n",
    "---"
   ]
  },
  {
   "cell_type": "code",
   "execution_count": 12,
   "metadata": {
    "id": "TiiSdolYrmQZ"
   },
   "outputs": [],
   "source": [
    "from pandas._libs.lib import tuples_to_object_array\n",
    "def need_cache_flush(tile_stats, last_stats):\n",
    "    if last_stats is None: return True\n",
    "    if tile_stats['fn'] != last_stats['fn']: return True\n",
    "    return False\n",
    "\n",
    "def get_tile_puller(tile_stat, crap_func, t_frames, z_frames):\n",
    "\n",
    "    def normalize(arr,negative=False):\n",
    "        dtype = arr.dtype\n",
    "        arr = arr.astype(np.float32)\n",
    "        og_min, og_max = float(arr.min()), float(arr.max())\n",
    "        # og_min, og_max = -212., 2047.\n",
    "        # og_min, og_max = 33.315, 1258.7339\n",
    "        if arr.dtype in (np.uint32, np.uint16, np.uint8):\n",
    "            return (arr - og_min) / (og_max - og_min)\n",
    "        else:\n",
    "            return ((arr - og_min) / (og_max - og_min) - 0.5) * 2\n",
    "\n",
    "    # assumes data is properly normalized\n",
    "    def denormalize(data, dtype = np.int32):\n",
    "        unsigned = (np.uint32, np.uint16, np.uint8)\n",
    "        signed = (np.int32, np.int16, np.int8)\n",
    "        if data.dtype in unsigned or (data.dtype in unsigned and data.min() < 0 or data.max() > 1) or (data.dtype in signed and data.min() < -1 or data.max() > 1):\n",
    "            raise Exception('Unsupported data type. Input should be normalized')\n",
    "        \n",
    "        if dtype in (np.int32, np.int16, np.int8, np.uint32, np.uint16, np.uint8):\n",
    "            return (data*np.iinfo(dtype).max).astype(dtype)\n",
    "        else:\n",
    "            return (data*np.finfo(dtype).max).astype(dtype)\n",
    "\n",
    "    fn = tile_stat['fn']\n",
    "    ftype = tile_stat['ftype']\n",
    "    nz = tile_stat['nz']\n",
    "    nt = tile_stat['nt']\n",
    "\n",
    "    half_z = z_frames // 2\n",
    "    half_t = t_frames // 2\n",
    "\n",
    "    if ftype == 'czi':\n",
    "        img_f = czifile.CziFile(fn)\n",
    "        proc_axes, proc_shape = get_czi_shape_info(img_f)\n",
    "        img_data = img_f.asarray()\n",
    "        img_data = img_data.astype(np.int32)\n",
    "\n",
    "        def czi_get(istat):\n",
    "            c,z,t,x,y,mi,ma,is_uint8,rmax,all_rmax,all_ma = [istat[fld] for fld in ['c','z','t','x','y','mi','ma','uint8','rmax','all_rmax','all_ma']]\n",
    "            if is_uint8:\n",
    "                mi, ma, rmax = 0., 255.0, 255.0\n",
    "                all_ma, all_rmax = 255.0, 255.0\n",
    "\n",
    "            t_slice = slice(t-half_t, t+half_t+1) if half_t > 0 else t\n",
    "            z_slice = slice(z-half_z, z+half_z+1) if half_z > 0 else z\n",
    "            idx = build_index(\n",
    "                proc_axes, {\n",
    "                    'C': c,\n",
    "                    'T': t_slice,\n",
    "                    'Z': z_slice,\n",
    "                    'X': slice(0, x),\n",
    "                    'Y': slice(0, y)\n",
    "                })\n",
    "            img = img_data[idx].copy()\n",
    "            img /= all_rmax\n",
    "            if len(img.shape) <= 2: img = img[None]\n",
    "            return img\n",
    "\n",
    "        img_get = czi_get\n",
    "        img_get._to_close = img_f\n",
    "    else:\n",
    "        pil_img = PIL.Image.open(fn)\n",
    "        def pil_get(istat):\n",
    "            c,z,t,x,y,mi,ma,is_int32,rmax,all_rmax,all_ma = [istat[fld] for fld in ['c','z','t','x','y','mi','ma','int32','rmax','all_rmax','all_ma']]\n",
    "            if half_t > 0: n_start, n_end = t-half_t, t+half_t+1\n",
    "            elif half_z > 0: n_start, n_end = z-half_z, z+half_z+1\n",
    "            else: n_start, n_end = 0,1\n",
    "\n",
    "            # if is_int32:\n",
    "            #     low, high = np.finfo(np.float32).min, np.finfo(np.float32).max\n",
    "            #     mi, ma, rmax = low, high, high\n",
    "            #     all_ma, all_rmax = high, high\n",
    "\n",
    "            img_array = []\n",
    "            img_max = 0\n",
    "            for ix in range(n_start, n_end):\n",
    "                pil_img.seek(ix)\n",
    "                pil_img.load()\n",
    "                img = np.array(pil_img).astype(np.float32)\n",
    "                # img_min, img_max = img.min(), img.max\n",
    "                # img = (((img + 212.) / 2259.) * np.iinfo(np.uint8).max).astype(np.uint8)\n",
    "\n",
    "                if len(img.shape) > 2: img = img[:,:,0]\n",
    "                img_array.append(img.copy())\n",
    "                \n",
    "                # img_max = max(img_max, img.max())\n",
    "\n",
    "            img = np.stack(img_array)\n",
    "\n",
    "            # img = img\n",
    "            # img /= img_max\n",
    "            return img\n",
    "\n",
    "        img_get = pil_get\n",
    "        img_get._to_close = pil_img\n",
    "\n",
    "\n",
    "    def puller(istat, tile_folder, crap_folder, close_me=False):\n",
    "        if close_me:\n",
    "            img_get._to_close.close()\n",
    "            return None\n",
    "\n",
    "        id = istat['index']\n",
    "        fn = Path(istat['fn'])\n",
    "        tile_sz = istat['tile_sz']\n",
    "        c,z,t,x,y,mi,ma,is_int32,rmin,rmax,mean = [istat[fld] for fld in ['c','z','t','x','y','mi','ma','int32','rmin','rmax','mean']]\n",
    "\n",
    "        # raw_data = img_get(istat)\n",
    "        raw_data = img_get(istat)\n",
    "        img_data = denormalize(normalize(raw_data))\n",
    "        # img_data = (raw_data * rmax).astype(np.int32)\n",
    "\n",
    "        thresh = np.percentile(img_data, 2)\n",
    "        thresh_pct = (img_data > thresh).mean() * 0.30\n",
    "\n",
    "        frame_count = img_data.shape[0]\n",
    "        mid_frame = frame_count // 2\n",
    "        crop_img, box = draw_random_tile(img_data[mid_frame], istat['tile_sz'], thresh, thresh_pct)\n",
    "        crop_img.save(tile_folder/f'{id:06d}_{fn.stem}.tif')\n",
    "        \n",
    "        if crap_func and crap_folder:\n",
    "            if frame_count > 1:\n",
    "                crap_data = []\n",
    "                for i in range(frame_count):\n",
    "                    frame_img = img_data[i, box[0]:box[2], box[1]:box[3]]\n",
    "                    crap_frame = crap_func(frame_img)\n",
    "                    crap_data.append(np.array(crap_frame))\n",
    "                multi_array = np.stack(crap_data)\n",
    "                np.save(crap_folder/f'{id:06d}_{fn.stem}.npy', multi_array)\n",
    "            else:\n",
    "                crap_img = crap_func(crop_img)\n",
    "                crap_img.save(crap_folder/f'{id:06d}_{fn.stem}.tif')\n",
    "\n",
    "        info = dict(istat)\n",
    "        info['id'] = id\n",
    "        info['box'] = box\n",
    "        info['tile_sz'] = tile_sz\n",
    "        crop_data = np.array(crop_img)\n",
    "        info['after_mean'] = crop_data.mean()\n",
    "        info['after_sd'] = crop_data.std()\n",
    "        info['after_max'] = crop_data.max()\n",
    "        info['after_min'] = crop_data.min()\n",
    "        return info\n",
    "\n",
    "    return puller\n",
    "\n",
    "def check_info(info, t_frames, z_frames):\n",
    "    t_space = t_frames // 2\n",
    "    z_space = z_frames // 2\n",
    "\n",
    "    z_ok = (info['nz'] >= z_frames) and (info['z'] >= z_space) and (info['z'] < (info['nz']-z_space))\n",
    "    t_ok = (info['nt'] >= t_frames) and (info['t'] >= t_space) and (info['t'] < (info['nt']-t_space))\n",
    "\n",
    "    return t_ok and z_ok"
   ]
  },
  {
   "attachments": {},
   "cell_type": "markdown",
   "metadata": {
    "id": "uvHGTP00rqqK"
   },
   "source": [
    "## **Specify Your Datasource - need your input**\n",
    "---"
   ]
  },
  {
   "cell_type": "code",
   "execution_count": 13,
   "metadata": {
    "id": "y5YVTH8Ortuk"
   },
   "outputs": [],
   "source": [
    "out = Path(root_path) #dataset folder, Path\n",
    "info = Path(root_path + '/testGradient.csv') #path of the metadata csv file, Path\n",
    "tile = 512 #generated training tile size, int\n",
    "n_train: int = 5 #number of train tiles, int\n",
    "n_valid: int = 1 #number of validation tiles', int\n",
    "crap_func = 'zero_crap' #crappifier name, str, check utils/crappifiers.py for more details\n",
    "n_frames = 1 #number of frames, int, 1 if singleframe, >1 if multiframe, 5 for multiframe by default\n",
    "lr_type = 's' # (s)ingle, (t) multi or (z) multi', string, if multiframe, t if XYT time-lapse, z if XYZ 3D stack\n",
    "scale = 1 # upsample factor, int (scales tile)\n",
    "upsample = False # if LR-Bilinear is needed to save to disk, boolean"
   ]
  },
  {
   "cell_type": "code",
   "execution_count": 14,
   "metadata": {
    "id": "EJmJ_YhqrxNm"
   },
   "outputs": [],
   "source": [
    "up = 'up' if upsample else ''\n",
    "if lr_type not in ['s','t test = (test - test.min()) / (test.max() - test.min())','z']:\n",
    "    print('lr_type should be s, t or z')\n",
    "    # return 1\n",
    "\n",
    "if lr_type == 's':\n",
    "    z_frames, t_frames = 1, 1\n",
    "elif lr_type == 't':\n",
    "    z_frames, t_frames = 1, n_frames\n",
    "elif lr_type == 'z':\n",
    "    z_frames, t_frames = n_frames, 1\n",
    "\n",
    "out = ensure_folder(out/f'{lr_type}_{n_frames}_{info.stem}_{crap_func}')\n",
    "if out.exists(): shutil.rmtree(out)\n",
    "out.mkdir(parents=True, mode=0o775, exist_ok=True)\n",
    "\n",
    "crap_func = eval(crap_func)\n",
    "if not crap_func is None:\n",
    "    if not callable(crap_func):\n",
    "        print('crap_func is not callable')\n",
    "        crap_func = None\n",
    "    else:\n",
    "        crap_func = partial(crap_func, scale=scale, upsample=upsample)\n",
    "\n",
    "info = pd.read_csv(info)\n",
    "info = info.loc[info.nz >= z_frames]\n",
    "info = info.loc[info.nt >= t_frames]"
   ]
  },
  {
   "cell_type": "code",
   "execution_count": 15,
   "metadata": {
    "colab": {
     "base_uri": "https://localhost:8080/"
    },
    "id": "tR1Ig1iKrzAl",
    "outputId": "3f05c196-fd75-43b8-9a59-546aa58456fd"
   },
   "outputs": [
    {
     "name": "stdout",
     "output_type": "stream",
     "text": [
      "num tile pulls: 6\n",
      "category\n",
      "sources    6\n",
      "Name: fn, dtype: int64\n"
     ]
    }
   ],
   "source": [
    "tile_infos = []\n",
    "for mode, n_samples in [('train', n_train),('valid', n_valid)]:\n",
    "    mode_info = info.loc[info.dsplit == mode]\n",
    "    categories = list(mode_info.groupby('category'))\n",
    "    files_by_category  = {c:list(info.groupby('fn')) for c,info in categories}\n",
    "\n",
    "    for i in range(n_samples):\n",
    "        category, cat_df = random.choice(categories)\n",
    "        fn, item_df = random.choice(files_by_category[category])\n",
    "        legal_choices = [item_info for ix, item_info in item_df.iterrows() if check_info(item_info, t_frames, z_frames)]\n",
    "\n",
    "        assert(legal_choices)\n",
    "        item_info = random.choice(legal_choices)\n",
    "        for tile_sz in [tile]:\n",
    "            item_d = dict(item_info)\n",
    "            item_d['tile_sz'] = tile_sz\n",
    "            tile_infos.append(item_d)\n",
    "\n",
    "tile_info_df = pd.DataFrame(tile_infos).reset_index()\n",
    "print('num tile pulls:', len(tile_infos))\n",
    "print(tile_info_df.groupby('category').fn.count())"
   ]
  },
  {
   "cell_type": "code",
   "execution_count": 16,
   "metadata": {
    "colab": {
     "base_uri": "https://localhost:8080/"
    },
    "id": "rEpFaGkWr1pD",
    "outputId": "15d5ad63-6b25-4e3a-e138-104add2d9a63"
   },
   "outputs": [],
   "source": [
    "last_stat = None\n",
    "tile_pull_info = []\n",
    "tile_puller = None\n",
    "\n",
    "multi_str = f'_{lr_type}_{n_frames}' if lr_type != 's' else ''\n",
    "mbar = master_bar(tile_info_df.groupby('fn'))\n",
    "for fn, tile_stats in mbar:\n",
    "    for i, tile_stat in progress_bar(list(tile_stats.iterrows()), parent=mbar):\n",
    "        try:\n",
    "            mode = tile_stat['dsplit']\n",
    "            category = tile_stat['category']\n",
    "            tile_sz = tile_stat['tile_sz']\n",
    "            tile_folder = ensure_folder(out / f'hr_t_{tile_sz}{multi_str}' / mode / category)\n",
    "            if crap_func:\n",
    "                crap_folder = ensure_folder(out / f'lr{up}_t_{tile_sz}{multi_str}' / mode / category)\n",
    "            else: crap_folder = None\n",
    "\n",
    "            if need_cache_flush(tile_stat, last_stat):\n",
    "                if tile_puller:\n",
    "                    tile_puller(None, None, None, close_me=True)\n",
    "                last_stat = tile_stat.copy()\n",
    "                tile_sz = tile_stat['tile_sz']\n",
    "                tile_puller = get_tile_puller(tile_stat, crap_func, t_frames, z_frames)\n",
    "            tile_pull_info.append(tile_puller(tile_stat, tile_folder, crap_folder))\n",
    "        except MemoryError as error:\n",
    "            # some files are too big to read\n",
    "            fn = Path(tile_stat['fn'])\n",
    "            print(f'too big: {fn.stem}')\n",
    "\n",
    "pd.DataFrame(tile_pull_info).to_csv(out/f'tiles{multi_str}.csv', index = False)"
   ]
  },
  {
   "attachments": {},
   "cell_type": "markdown",
   "metadata": {
    "id": "NxRDXI5kr6O-"
   },
   "source": [
    "# **PSSR 03 - Train Your Data**\n",
    "---"
   ]
  },
  {
   "attachments": {},
   "cell_type": "markdown",
   "metadata": {
    "id": "s_5rWFD1sNtQ"
   },
   "source": [
    "## **Hyper-Parameter Configuration - need your input**\n",
    "---"
   ]
  },
  {
   "cell_type": "code",
   "execution_count": 16,
   "metadata": {
    "id": "afaoK0ASr5z8"
   },
   "outputs": [],
   "source": [
    "#basic adjustable hyper-parameters - configure as needed\n",
    "datasetname = 's_1_testGradient_zero_crap'\n",
    "tile_sz = 512 # size of original input tile\n",
    "n_frames = 1\n",
    "lr_type = 's' #'s' or 't' or 'z'\n",
    "bs = 3\n",
    "size = 512 # size of output tile\n",
    "# lr = 4e-4\n",
    "l_rate = 2e-3\n",
    "cycles = 10"
   ]
  },
  {
   "cell_type": "code",
   "execution_count": 17,
   "metadata": {
    "id": "izJuXDCssVdq"
   },
   "outputs": [],
   "source": [
    "#advanced adjustable hyper-parameters - keep default numbers in most cases\n",
    "\n",
    "#data augmentation related\n",
    "cutout = False\n",
    "norm = True\n",
    "# mode = 'L'\n",
    "mode = 'I'\n",
    "\n",
    "#network architecture\n",
    "arch_name = 'wnresnet34'\n",
    "attn = True\n",
    "blur = True\n",
    "final_blur = True\n",
    "bottle = True\n",
    "last_cross = True\n",
    "\n",
    "#fitting related\n",
    "l1_loss = False\n",
    "lr_start = None\n",
    "load_name = None\n",
    "freeze = False\n",
    "wd = 1e-3\n",
    "save_name = None"
   ]
  },
  {
   "attachments": {},
   "cell_type": "markdown",
   "metadata": {
    "id": "CKjeQoE_sY1r"
   },
   "source": [
    "## **Prepare Databunch**\n",
    "---"
   ]
  },
  {
   "cell_type": "code",
   "execution_count": 18,
   "metadata": {
    "id": "s5cMdQw4saH6"
   },
   "outputs": [],
   "source": [
    "def get_src(x_data, y_data, n_frames=1, mode='I'):\n",
    "    def map_to_hr(x):\n",
    "        return y_data/x.relative_to(x_data).with_suffix('.tif')\n",
    "\n",
    "    if n_frames == 1:\n",
    "        src = (ImageImageList\n",
    "                .from_folder(x_data, convert_mode=mode)\n",
    "                .split_by_folder()\n",
    "                .label_from_func(map_to_hr, convert_mode=mode))\n",
    "    else:\n",
    "        src = (MultiImageImageList\n",
    "                .from_folder(x_data, extensions=['.npy'])\n",
    "                .split_by_folder()\n",
    "                .label_from_func(map_to_hr, convert_mode=mode))\n",
    "    return src\n",
    "\n",
    "def get_data(bs, size, x_data, y_data,\n",
    "             n_frames=1,\n",
    "             max_rotate=10.,\n",
    "             min_zoom=1., max_zoom=1.1,\n",
    "             use_cutout=False,\n",
    "             use_noise=False,\n",
    "             scale=4,\n",
    "             xtra_tfms=None,\n",
    "             gauss_sigma=(0.4,0.7),\n",
    "             pscale=(5,30),\n",
    "             mode='L',\n",
    "             norm=False,\n",
    "             **kwargs):\n",
    "    src = get_src(x_data, y_data, n_frames=n_frames, mode=mode)\n",
    "\n",
    "    x_tfms, y_tfms = get_xy_transforms(\n",
    "                          max_rotate=max_rotate,\n",
    "                          min_zoom=min_zoom, max_zoom=max_zoom,\n",
    "                          use_cutout=use_cutout,\n",
    "                          use_noise=use_noise,\n",
    "                          gauss_sigma=gauss_sigma,\n",
    "                          pscale=pscale,\n",
    "                          xtra_tfms = xtra_tfms)\n",
    "    x_size = size // scale\n",
    "    data = (src\n",
    "            .transform(x_tfms, size=x_size)\n",
    "            .transform_y(y_tfms, size=size)\n",
    "            .databunch(bs=bs, **kwargs))\n",
    "    \n",
    "    if norm:\n",
    "        print('normalizing x and y data')\n",
    "        data = data.normalize(do_y=True)\n",
    "        test = np.array(Image.open(data.items[0]))\n",
    "        plt.imshow(test, cmap=\"gray\")\n",
    "        print(test[500:,500:])\n",
    "    #data.c = 3 #why?\n",
    "    return data"
   ]
  },
  {
   "cell_type": "code",
   "execution_count": 19,
   "metadata": {
    "colab": {
     "base_uri": "https://localhost:8080/"
    },
    "id": "IVoQ4o9xsh6h",
    "outputId": "69490906-c5da-4967-80f7-9886e2f8bd0e"
   },
   "outputs": [
    {
     "name": "stdout",
     "output_type": "stream",
     "text": [
      "normalizing x and y data\n",
      "[[2055028479 2059230975 2063433471 2067635967 ... 2088648447 2092850943 2097053439 2101255935]\n",
      " [2059230975 2063433471 2067635967 2071838463 ... 2092850943 2097053439 2101255935 2105458431]\n",
      " [2063433471 2067635967 2071838463 2076040959 ... 2097053439 2101255935 2105458431 2109660927]\n",
      " [2067635967 2071838463 2076040959 2080243455 ... 2101255935 2105458431 2109660927 2113863423]\n",
      " ...\n",
      " [2088648447 2092850943 2097053439 2101255935 ... 2122268671 2126471167 2130673663 2134876159]\n",
      " [2092850943 2097053439 2101255935 2105458431 ... 2126471167 2130673663 2134876159 2139078655]\n",
      " [2097053439 2101255935 2105458431 2109660927 ... 2130673663 2134876159 2139078655 2143281151]\n",
      " [2101255935 2105458431 2109660927 2113863423 ... 2134876159 2139078655 2143281151 2147483647]]\n",
      "bs: 3 size:  512\n"
     ]
    },
    {
     "data": {
      "image/png": "[encoded data removed]",
      "text/plain": [
       "<Figure size 640x480 with 1 Axes>"
      ]
     },
     "metadata": {},
     "output_type": "display_data"
    }
   ],
   "source": [
    "datasets = Path(root_path)\n",
    "dataset = datasets/datasetname\n",
    "if tile_sz is None:\n",
    "    hr_tifs = dataset/f'hr'\n",
    "    lr_tifs = dataset/f'lr'\n",
    "else:\n",
    "    multi_str = f'_{lr_type}_{n_frames}' if lr_type != 's' else ''\n",
    "    hr_tifs = dataset/f'hr_t_{tile_sz:d}{multi_str}'\n",
    "    lr_tifs = dataset/f'lr_t_{tile_sz:d}{multi_str}'\n",
    "\n",
    "data = get_data(bs, size, lr_tifs, hr_tifs, n_frames=n_frames, max_zoom=4.,\n",
    "                use_cutout=cutout, mode=mode, norm=norm)\n",
    "print('bs:', bs, 'size: ', size)"
   ]
  },
  {
   "attachments": {},
   "cell_type": "markdown",
   "metadata": {
    "id": "dfgjxgIHsim_"
   },
   "source": [
    "## **Set Up Learner**\n",
    "--- "
   ]
  },
  {
   "cell_type": "code",
   "execution_count": 20,
   "metadata": {
    "colab": {
     "base_uri": "https://localhost:8080/"
    },
    "id": "A67K0Ne6sltO",
    "outputId": "0aa4ecfa-5868-42d7-dc54-3470456c882d"
   },
   "outputs": [
    {
     "name": "stdout",
     "output_type": "stream",
     "text": [
      "loss:  <function mse_loss at 0x7f25f4797910>\n"
     ]
    }
   ],
   "source": [
    "# Set up the learner\n",
    "if save_name is None: \n",
    "    save_name = f'{datasetname}_{cycles}epochs'\n",
    "pickle_models = Path(root_path)/'stats/models'\n",
    "pth_models = Path(root_path)/'models'\n",
    "if l1_loss: loss = F.l1_loss\n",
    "else: loss = F.mse_loss\n",
    "print('loss: ', loss)\n",
    "\n",
    "callback_fns = []\n",
    "callback_fns.append(partial(SaveModelCallback, name=f'{save_name}_best_{size}'))\n",
    "\n",
    "wnres_args = {\n",
    "    'blur': blur,\n",
    "    'blur_final': final_blur,\n",
    "    'bottle': bottle,\n",
    "    'self_attention': attn,\n",
    "    'last_cross': True\n",
    "}\n",
    "arch = eval(arch_name)\n",
    "learn = wnres_unet_learner(data, arch, in_c=n_frames, wnres_args=wnres_args,\n",
    "                          path=Path('.'), loss_func=loss, metrics=sr_metrics,\n",
    "                          model_dir=pth_models, callback_fns=callback_fns, wd=wd, bilinear_upsample=True)\n",
    "learn.to_fp32()\n",
    "\n",
    "if load_name:\n",
    "    learn = learn.load(f'{load_name}')\n",
    "    print(f'loaded {load_name}')\n",
    "\n",
    "if freeze: learn.freeze()\n",
    "\n",
    "if not lr_start is None: lr = slice(lr_start, l_rate)\n",
    "else: lr = slice(None, l_rate, None)"
   ]
  },
  {
   "attachments": {},
   "cell_type": "markdown",
   "metadata": {
    "id": "7XRWPTO5sqOy"
   },
   "source": [
    "## **Train & Export**\n",
    "___"
   ]
  },
  {
   "cell_type": "code",
   "execution_count": 21,
   "metadata": {
    "colab": {
     "base_uri": "https://localhost:8080/",
     "height": 542
    },
    "id": "iLjiOeZSspl0",
    "outputId": "4495a888-3a61-41da-cdf1-c320b6b84997"
   },
   "outputs": [
    {
     "name": "stdout",
     "output_type": "stream",
     "text": [
      "Better model found at epoch 0 with valid_loss value: 1.6302993297576904.\n",
      "Better model found at epoch 1 with valid_loss value: 1.4954454898834229.\n",
      "Better model found at epoch 2 with valid_loss value: 1.211216688156128.\n",
      "Better model found at epoch 5 with valid_loss value: 1.2006149291992188.\n",
      "Better model found at epoch 6 with valid_loss value: 1.1253529787063599.\n",
      "Better model found at epoch 7 with valid_loss value: 1.0602871179580688.\n",
      "Better model found at epoch 8 with valid_loss value: 1.023527979850769.\n",
      "Better model found at epoch 9 with valid_loss value: 1.0112487077713013.\n",
      "saved: s_1_testGradient_zero_crap_10epochs\n",
      "exported\n"
     ]
    }
   ],
   "source": [
    "learn.fit_one_cycle(cycles, lr)\n",
    "learn.save(save_name)\n",
    "print(f'saved: {save_name}')\n",
    "learn.export(pickle_models/f'{save_name}_{size}.pkl')\n",
    "print('exported')\n",
    "\n",
    "# learn.recorder.plot()"
   ]
  },
  {
   "cell_type": "code",
   "execution_count": 22,
   "metadata": {},
   "outputs": [
    {
     "data": {
      "image/png": "[encoded data removed]",
      "text/plain": [
       "<Figure size 640x480 with 1 Axes>"
      ]
     },
     "metadata": {},
     "output_type": "display_data"
    }
   ],
   "source": [
    "learn.recorder.plot()"
   ]
  },
  {
   "attachments": {},
   "cell_type": "markdown",
   "metadata": {
    "id": "40JlBOoPswZQ"
   },
   "source": [
    "## **Export Trained PSSR Model**"
   ]
  },
  {
   "attachments": {},
   "cell_type": "markdown",
   "metadata": {
    "id": "dhrmu1RrtIL_"
   },
   "source": [
    "# **PSSR 04 - Inference**\n",
    "---"
   ]
  },
  {
   "attachments": {},
   "cell_type": "markdown",
   "metadata": {
    "id": "LGYno9rvtXGv"
   },
   "source": [
    "## **Specify Your Model and Test Data - need your input**\n",
    "---"
   ]
  },
  {
   "cell_type": "code",
   "execution_count": 23,
   "metadata": {
    "id": "wCEKqMH4tN_c"
   },
   "outputs": [],
   "source": [
    "# Modify accordingly\n",
    "model_name = 's_1_testGradient_zero_crap_10epochs_512'\n",
    "testset_name = 'testGradient'\n",
    "use_tiles = True\n",
    "mode = 'I' #Param(\"L or RGBA\", str)"
   ]
  },
  {
   "attachments": {},
   "cell_type": "markdown",
   "metadata": {
    "id": "URfJNm9Etkip"
   },
   "source": [
    "## **Prepare for Inference**\n",
    "---"
   ]
  },
  {
   "cell_type": "code",
   "execution_count": 24,
   "metadata": {
    "colab": {
     "base_uri": "https://localhost:8080/"
    },
    "id": "CQoUz-2ctnce",
    "outputId": "88e1cf6b-1dae-439f-c05a-817678ae4d40"
   },
   "outputs": [
    {
     "name": "stdout",
     "output_type": "stream",
     "text": [
      "s_1_testGradient_zero_crap_10epochs_512 model is being used.\n"
     ]
    }
   ],
   "source": [
    "# Prepare model\n",
    "test_path = Path(root_path)/'stats'\n",
    "model_name = model_name\n",
    "model_dir = test_path/'models'\n",
    "print(f'{model_name} model is being used.')\n",
    "\n",
    "# Prepare data\n",
    "testset_name = testset_name\n",
    "src_dir = test_path/'LR'/testset_name\n",
    "out_dir = test_path/'LR-PSSR'/testset_name\n",
    "out_dir = ensure_folder(out_dir)"
   ]
  },
  {
   "attachments": {},
   "cell_type": "markdown",
   "metadata": {
    "id": "dbeYEfM5tsX-"
   },
   "source": [
    "## **Inference**\n",
    "---"
   ]
  },
  {
   "cell_type": "code",
   "execution_count": 25,
   "metadata": {
    "cellView": "form",
    "id": "IP9EHOUNtyTi"
   },
   "outputs": [],
   "source": [
    "#@title process_czi\n",
    "\n",
    "def process_czi(fn, processor, proc_func, out_fn, n_depth=1, n_time=1, mode='L'):\n",
    "    stats = []\n",
    "    with czifile.CziFile(fn) as czi_f:\n",
    "        proc_axes, proc_shape = get_czi_shape_info(czi_f)\n",
    "        channels = proc_shape['C']\n",
    "        depths = proc_shape['Z']\n",
    "        times = proc_shape['T']\n",
    "        x, y = proc_shape['X'], proc_shape['Y']\n",
    "\n",
    "        data = czi_f.asarray().astype(np.float32)\n",
    "        data, img_info = img_to_float(data)\n",
    "\n",
    "        if depths < n_depth: return\n",
    "        if times < n_time: return\n",
    "\n",
    "        if n_depth > 1: # this is busted\n",
    "            offset_frames = n_depth // 2\n",
    "            for c in range(channels):\n",
    "                for t in range(times):\n",
    "                    for z in range(offset_frames, depths - offset_frame):\n",
    "                        depth_slice = slice(z-offset_frames, z+offset_frame+1)\n",
    "                        idx = build_index(\n",
    "                            proc_axes, {\n",
    "                                'T': t,\n",
    "                                'C': c,\n",
    "                                'Z': depth_slice,\n",
    "                                'X': slice(0, x),\n",
    "                                'Y': slice(0, y)\n",
    "                        })\n",
    "                        img = data[idx].copy()\n",
    "                        tag = f'{c}_{t}_{z+offset_frames}_'\n",
    "\n",
    "                        save_name = f'{proc_name}_{item.stem}_{tag}'\n",
    "\n",
    "                        pred_img = proc_func(img, img_info=img_info, mode=mode)\n",
    "                        pred_img8 = (pred_img * np.iinfo(np.uint8).max).astype(np.uint8)\n",
    "                        PIL.Image.fromarray(pred_img8).save(out_fn)\n",
    "        elif n_time > 1:\n",
    "            offset_frames = n_time // 2\n",
    "            for c in range(channels):\n",
    "                for z in range(depths):\n",
    "                    imgs = []\n",
    "                    time_range = list(range(offset_frames, times - offset_frames))\n",
    "                    for t in progress_bar(time_range):\n",
    "                        time_slice = slice(t-offset_frames, t+offset_frames+1)\n",
    "                        idx = build_index(\n",
    "                            proc_axes, {\n",
    "                                'T': time_slice,\n",
    "                                'C': c,\n",
    "                                'Z': z,\n",
    "                                'X': slice(0, x),\n",
    "                                'Y': slice(0, y)\n",
    "                        })\n",
    "                        img = data[idx].copy()\n",
    "                        pred_img = proc_func(img, img_info=img_info, mode=mode)\n",
    "                        pred_img8 = (pred_img * np.iinfo(np.uint8).max).astype(np.uint8)\n",
    "                        imgs.append(pred_img8[None])\n",
    "\n",
    "                    all_y = np.concatenate(imgs)\n",
    "                    if processor!='bilinear':\n",
    "                        fldr_name = f'{out_fn.parent}/{processor}'\n",
    "                    else:\n",
    "                        fldr_name = out_fn.parent.parent.parent/processor/out_fn.parent.stem\n",
    "                    save_name = f'{fn.stem}_{processor}.tif'\n",
    "                    if c > 1 or z > 1:\n",
    "                        fldr_name = fldr_name/f'{c}_{z}'\n",
    "                    out_fldr = ensure_folder(fldr_name)\n",
    "\n",
    "                    if all_y.size < 4e9:\n",
    "                        imageio.mimwrite(out_fldr/save_name, all_y)\n",
    "                    else:\n",
    "                        imageio.mimwrite(out_fldr/save_name, all_y, bigtiff=True)\n",
    "        else:\n",
    "            imgs = []\n",
    "            for c in range(channels):\n",
    "                for z in range(depths):\n",
    "                    for t in range(times):\n",
    "                        idx = build_index(\n",
    "                            proc_axes, {\n",
    "                                'T': t,\n",
    "                                'C': c,\n",
    "                                'Z': z,\n",
    "                                'X': slice(0, x),\n",
    "                                'Y': slice(0, y)\n",
    "                        })\n",
    "                        img = data[idx].copy()\n",
    "                        pred_img = proc_func(img, img_info=img_info, mode=mode)\n",
    "                        pred_img8 = (pred_img * np.iinfo(np.uint8).max).astype(np.uint8)\n",
    "                        imgs.append(pred_img8[None])\n",
    "            all_y = np.concatenate(imgs)\n",
    "            if processor!='bilinear':\n",
    "                fldr_name = f'{out_fn.parent}/{processor}'\n",
    "            else:\n",
    "                fldr_name = out_fn.parent.parent.parent/processor/out_fn.parent.stem\n",
    "            save_name = f'{fn.stem}_{processor}.tif'\n",
    "            out_fldr = ensure_folder(fldr_name)\n",
    "\n",
    "            if all_y.size < 4e9:\n",
    "                imageio.mimwrite(out_fldr/save_name, all_y)\n",
    "            else:\n",
    "                imageio.mimwrite(out_fldr/save_name, all_y, bigtiff=True)"
   ]
  },
  {
   "cell_type": "code",
   "execution_count": 61,
   "metadata": {
    "id": "STCntdaYtwci"
   },
   "outputs": [],
   "source": [
    "def process_tif(fn, processor, proc_func, out_fn, n_depth=1, n_time=1, mode='I'):\n",
    "    with PIL.Image.open(fn) as img_tif:\n",
    "        n_frame = max(n_depth, n_time)\n",
    "        offset_frames = n_frame // 2\n",
    "\n",
    "        if n_frame > img_tif.n_frames:\n",
    "            if img_tif.n_frames == 1:\n",
    "                times = n_frame\n",
    "                img_tif = np.array(img_tif)\n",
    "                data = np.repeat(img_tif[None],5,axis=0).astype(np.int32)\n",
    "            else:\n",
    "                return []\n",
    "        else:\n",
    "            times = img_tif.n_frames\n",
    "            img_tifs = []\n",
    "            for i in range(times):\n",
    "                img_tif.seek(i)\n",
    "                img_tif.load()\n",
    "                img_tifs.append(np.array(img_tif).copy())\n",
    "            data = np.stack(img_tifs).astype(np.int32)\n",
    "\n",
    "        data, img_info = img_to_float(data)\n",
    "        img_tiffs = []\n",
    "        time_range = list(range(offset_frames, times - offset_frames))\n",
    "        for t in progress_bar(time_range):\n",
    "            time_slice = slice(t-offset_frames, t+offset_frames+1)\n",
    "            img = data[time_slice].copy().astype(np.int64)\n",
    "            img = img[0]\n",
    "            pred_img = proc_func(img, img_info=img_info, mode=mode)\n",
    "            print(pred_img)\n",
    "            pred_img32 = pred_img\n",
    "            # pred_img32 = (pred_img * np.iinfo(np.int32).max).astype(np.int32)\n",
    "            img_tiffs.append(pred_img32[None])\n",
    "\n",
    "        # imgs = np.concatenate(img_tiffs)\n",
    "        if processor!='bilinear':\n",
    "            fldr_name = f'{out_fn.parent}/{processor}'\n",
    "        else:\n",
    "            fldr_name = out_fn.parent.parent.parent/processor/out_fn.parent.stem\n",
    "        save_name = f'{fn.stem}_{processor}.tif'\n",
    "        out_fldr = ensure_folder(out_fn.parent/processor)\n",
    "\n",
    "        # if imgs.size < 4e9:\n",
    "        #     imageio.mimwrite(out_fldr/save_name, imgs)\n",
    "        # else:\n",
    "        #     imageio.mimwrite(out_fldr/save_name, imgs, bigtiff=True)\n",
    "\n",
    "def process_files(src_dir, out_dir, model_dir, processor, mode, use_tiles):\n",
    "    proc_map = {\n",
    "        '.tif': process_tif,\n",
    "        '.czi': process_czi\n",
    "    }\n",
    "\n",
    "    proc_func, num_chan = get_named_processor(processor, model_dir, use_tiles)\n",
    "    src_files = list(src_dir.glob('**/*.czi'))\n",
    "    src_files += list(src_dir.glob('**/*.tif'))\n",
    "\n",
    "    for fn in progress_bar(src_files):\n",
    "        out_fn = out_dir/fn.relative_to(src_dir)\n",
    "        ensure_folder(out_fn.parent)\n",
    "        file_proc = proc_map.get(fn.suffix, None)\n",
    "        if file_proc:\n",
    "            n_depth = n_time = 1\n",
    "            if 'z_' in processor: n_depth = num_chan\n",
    "            if 't_' in processor: n_time = num_chan\n",
    "            print('File being processed: ', fn)\n",
    "            file_proc(fn, processor, proc_func, out_fn, n_depth=n_depth, n_time=n_time, mode=mode)"
   ]
  },
  {
   "cell_type": "code",
   "execution_count": 62,
   "metadata": {
    "colab": {
     "base_uri": "https://localhost:8080/",
     "height": 471
    },
    "id": "0-9WOfTkt8D1",
    "outputId": "03ea5b7e-c532-40c2-d143-a25d3fdcb6f1"
   },
   "outputs": [
    {
     "name": "stderr",
     "output_type": "stream",
     "text": [
      "/home/gigo/anaconda3/envs/pssrMichael/lib/python3.10/site-packages/fastai/torch_core.py:83: UserWarning: Tensor is int32: upgrading to int64; for better performance use int64 input\n",
      "  warn('Tensor is int32: upgrading to int64; for better performance use int64 input')\n"
     ]
    }
   ],
   "source": [
    "process_files(src_dir, out_dir, model_dir, model_name, mode, use_tiles)\n",
    "print('All done!')"
   ]
  },
  {
   "cell_type": "code",
   "execution_count": 67,
   "metadata": {},
   "outputs": [
    {
     "data": {
      "text/plain": [
       "<matplotlib.image.AxesImage at 0x7f258c1cf520>"
      ]
     },
     "execution_count": 67,
     "metadata": {},
     "output_type": "execute_result"
    },
    {
     "data": {
      "image/png": "[encoded data removed]",
      "text/plain": [
       "<Figure size 640x480 with 1 Axes>"
      ]
     },
     "metadata": {},
     "output_type": "display_data"
    }
   ],
   "source": [
    "out_path = '/home/gigo/pssr_Michael/stats/LR-PSSR/testGradient/s_1_testGradient_zero_crap_10epochs_512/test_grad_s_1_testGradient_zero_crap_10epochs_512.tif'\n",
    "out_img = Image.open(out_path)\n",
    "inferred = np.array(out_img)\n",
    "out_img.save(\"out_img.tif\")\n",
    "plt.imshow(inferred)"
   ]
  },
  {
   "cell_type": "code",
   "execution_count": null,
   "metadata": {},
   "outputs": [],
   "source": []
  }
 ],
 "metadata": {
  "accelerator": "GPU",
  "colab": {
   "collapsed_sections": [
    "b4-r1gE7Iamv",
    "GMetHM56gMkf",
    "ZCG3IlyEjzBa",
    "CjDTzO01qx4k"
   ],
   "provenance": []
  },
  "gpuClass": "standard",
  "kernelspec": {
   "display_name": "Python 3",
   "language": "python",
   "name": "python3"
  },
  "language_info": {
   "codemirror_mode": {
    "name": "ipython",
    "version": 3
   },
   "file_extension": ".py",
   "mimetype": "text/x-python",
   "name": "python",
   "nbconvert_exporter": "python",
   "pygments_lexer": "ipython3",
   "version": "3.10.4"
  },
  "vscode": {
   "interpreter": {
    "hash": "e8299560a4fa47ee6a550bbeda4e8a1b4b006c163be4a9e8a3df50218eaf08eb"
   }
  }
 },
 "nbformat": 4,
 "nbformat_minor": 1
}
